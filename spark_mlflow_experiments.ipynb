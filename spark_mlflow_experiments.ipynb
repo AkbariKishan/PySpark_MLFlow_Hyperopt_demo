{
 "cells": [
  {
   "cell_type": "code",
   "execution_count": 1,
   "id": "e8c60538",
   "metadata": {},
   "outputs": [],
   "source": [
    "import findspark\n",
    "findspark.init('/home/kris/spark-3.3.0-bin-hadoop3')\n",
    "\n",
    "from pyspark.sql import SparkSession"
   ]
  },
  {
   "cell_type": "code",
   "execution_count": 2,
   "id": "feae9fe4",
   "metadata": {},
   "outputs": [
    {
     "name": "stdout",
     "output_type": "stream",
     "text": [
      "22/07/20 12:02:19 WARN Utils: Your hostname, kris-VirtualBox resolves to a loopback address: 127.0.1.1; using 10.0.2.15 instead (on interface enp0s3)\n",
      "22/07/20 12:02:19 WARN Utils: Set SPARK_LOCAL_IP if you need to bind to another address\n"
     ]
    },
    {
     "name": "stderr",
     "output_type": "stream",
     "text": [
      "Setting default log level to \"WARN\".\n",
      "To adjust logging level use sc.setLogLevel(newLevel). For SparkR, use setLogLevel(newLevel).\n"
     ]
    },
    {
     "name": "stdout",
     "output_type": "stream",
     "text": [
      "22/07/20 12:02:20 WARN NativeCodeLoader: Unable to load native-hadoop library for your platform... using builtin-java classes where applicable\n"
     ]
    }
   ],
   "source": [
    "spark = SparkSession.builder.appName('lr_model').getOrCreate()"
   ]
  },
  {
   "cell_type": "code",
   "execution_count": 3,
   "id": "a96530a7",
   "metadata": {},
   "outputs": [],
   "source": [
    "from pyspark.ml.regression import RandomForestRegressor, LinearRegression\n",
    "\n",
    "from sklearn import datasets\n",
    "from sklearn.metrics import mean_squared_error, r2_score\n",
    "import mlflow\n",
    "from math import sqrt\n",
    " \n",
    "import pandas as pd"
   ]
  },
  {
   "cell_type": "code",
   "execution_count": 4,
   "id": "be7068ad",
   "metadata": {
    "scrolled": true
   },
   "outputs": [],
   "source": [
    "dataset = datasets.load_diabetes()\n",
    "df_x =  pd.DataFrame(dataset.data)\n",
    "df_y = pd.DataFrame(dataset.target, columns = ['target'])\n",
    "df = pd.concat([df_x, df_y], axis = 1)\n",
    "df.to_csv('data.csv', index = False)"
   ]
  },
  {
   "cell_type": "code",
   "execution_count": 5,
   "id": "f54be46f",
   "metadata": {},
   "outputs": [
    {
     "data": {
      "text/html": [
       "<div>\n",
       "<style scoped>\n",
       "    .dataframe tbody tr th:only-of-type {\n",
       "        vertical-align: middle;\n",
       "    }\n",
       "\n",
       "    .dataframe tbody tr th {\n",
       "        vertical-align: top;\n",
       "    }\n",
       "\n",
       "    .dataframe thead th {\n",
       "        text-align: right;\n",
       "    }\n",
       "</style>\n",
       "<table border=\"1\" class=\"dataframe\">\n",
       "  <thead>\n",
       "    <tr style=\"text-align: right;\">\n",
       "      <th></th>\n",
       "      <th>0</th>\n",
       "      <th>1</th>\n",
       "      <th>2</th>\n",
       "      <th>3</th>\n",
       "      <th>4</th>\n",
       "      <th>5</th>\n",
       "      <th>6</th>\n",
       "      <th>7</th>\n",
       "      <th>8</th>\n",
       "      <th>9</th>\n",
       "      <th>target</th>\n",
       "    </tr>\n",
       "  </thead>\n",
       "  <tbody>\n",
       "    <tr>\n",
       "      <th>0</th>\n",
       "      <td>0.038076</td>\n",
       "      <td>0.050680</td>\n",
       "      <td>0.061696</td>\n",
       "      <td>0.021872</td>\n",
       "      <td>-0.044223</td>\n",
       "      <td>-0.034821</td>\n",
       "      <td>-0.043401</td>\n",
       "      <td>-0.002592</td>\n",
       "      <td>0.019907</td>\n",
       "      <td>-0.017646</td>\n",
       "      <td>151.0</td>\n",
       "    </tr>\n",
       "    <tr>\n",
       "      <th>1</th>\n",
       "      <td>-0.001882</td>\n",
       "      <td>-0.044642</td>\n",
       "      <td>-0.051474</td>\n",
       "      <td>-0.026328</td>\n",
       "      <td>-0.008449</td>\n",
       "      <td>-0.019163</td>\n",
       "      <td>0.074412</td>\n",
       "      <td>-0.039493</td>\n",
       "      <td>-0.068332</td>\n",
       "      <td>-0.092204</td>\n",
       "      <td>75.0</td>\n",
       "    </tr>\n",
       "    <tr>\n",
       "      <th>2</th>\n",
       "      <td>0.085299</td>\n",
       "      <td>0.050680</td>\n",
       "      <td>0.044451</td>\n",
       "      <td>-0.005670</td>\n",
       "      <td>-0.045599</td>\n",
       "      <td>-0.034194</td>\n",
       "      <td>-0.032356</td>\n",
       "      <td>-0.002592</td>\n",
       "      <td>0.002861</td>\n",
       "      <td>-0.025930</td>\n",
       "      <td>141.0</td>\n",
       "    </tr>\n",
       "    <tr>\n",
       "      <th>3</th>\n",
       "      <td>-0.089063</td>\n",
       "      <td>-0.044642</td>\n",
       "      <td>-0.011595</td>\n",
       "      <td>-0.036656</td>\n",
       "      <td>0.012191</td>\n",
       "      <td>0.024991</td>\n",
       "      <td>-0.036038</td>\n",
       "      <td>0.034309</td>\n",
       "      <td>0.022688</td>\n",
       "      <td>-0.009362</td>\n",
       "      <td>206.0</td>\n",
       "    </tr>\n",
       "    <tr>\n",
       "      <th>4</th>\n",
       "      <td>0.005383</td>\n",
       "      <td>-0.044642</td>\n",
       "      <td>-0.036385</td>\n",
       "      <td>0.021872</td>\n",
       "      <td>0.003935</td>\n",
       "      <td>0.015596</td>\n",
       "      <td>0.008142</td>\n",
       "      <td>-0.002592</td>\n",
       "      <td>-0.031988</td>\n",
       "      <td>-0.046641</td>\n",
       "      <td>135.0</td>\n",
       "    </tr>\n",
       "  </tbody>\n",
       "</table>\n",
       "</div>"
      ],
      "text/plain": [
       "          0         1         2         3         4         5         6  \\\n",
       "0  0.038076  0.050680  0.061696  0.021872 -0.044223 -0.034821 -0.043401   \n",
       "1 -0.001882 -0.044642 -0.051474 -0.026328 -0.008449 -0.019163  0.074412   \n",
       "2  0.085299  0.050680  0.044451 -0.005670 -0.045599 -0.034194 -0.032356   \n",
       "3 -0.089063 -0.044642 -0.011595 -0.036656  0.012191  0.024991 -0.036038   \n",
       "4  0.005383 -0.044642 -0.036385  0.021872  0.003935  0.015596  0.008142   \n",
       "\n",
       "          7         8         9  target  \n",
       "0 -0.002592  0.019907 -0.017646   151.0  \n",
       "1 -0.039493 -0.068332 -0.092204    75.0  \n",
       "2 -0.002592  0.002861 -0.025930   141.0  \n",
       "3  0.034309  0.022688 -0.009362   206.0  \n",
       "4 -0.002592 -0.031988 -0.046641   135.0  "
      ]
     },
     "execution_count": 5,
     "metadata": {},
     "output_type": "execute_result"
    }
   ],
   "source": [
    "df.head()"
   ]
  },
  {
   "cell_type": "code",
   "execution_count": 6,
   "id": "6f9e197f",
   "metadata": {},
   "outputs": [
    {
     "name": "stderr",
     "output_type": "stream",
     "text": [
      "\r",
      "[Stage 0:===========================================================(1 + 0) / 1]\r",
      "\r",
      "                                                                                \r"
     ]
    }
   ],
   "source": [
    "data = spark.read.csv('data.csv',\n",
    "                      inferSchema = True,\n",
    "                      header= True)"
   ]
  },
  {
   "cell_type": "code",
   "execution_count": 7,
   "id": "ec6e33ff",
   "metadata": {},
   "outputs": [
    {
     "name": "stdout",
     "output_type": "stream",
     "text": [
      "root\n",
      " |-- 0: double (nullable = true)\n",
      " |-- 1: double (nullable = true)\n",
      " |-- 2: double (nullable = true)\n",
      " |-- 3: double (nullable = true)\n",
      " |-- 4: double (nullable = true)\n",
      " |-- 5: double (nullable = true)\n",
      " |-- 6: double (nullable = true)\n",
      " |-- 7: double (nullable = true)\n",
      " |-- 8: double (nullable = true)\n",
      " |-- 9: double (nullable = true)\n",
      " |-- target: double (nullable = true)\n",
      "\n"
     ]
    }
   ],
   "source": [
    "data.printSchema()"
   ]
  },
  {
   "cell_type": "code",
   "execution_count": 8,
   "id": "d4582a05",
   "metadata": {},
   "outputs": [
    {
     "name": "stdout",
     "output_type": "stream",
     "text": [
      "0.038075906433423026\n",
      "0.05068011873981862\n",
      "0.061696206518683294\n",
      "0.0218723855140367\n",
      "-0.04422349842444599\n",
      "-0.03482076283769895\n",
      "-0.04340084565202491\n",
      "-0.002592261998183278\n",
      "0.019907486170462722\n",
      "-0.01764612515980379\n",
      "151.0\n"
     ]
    }
   ],
   "source": [
    "for item in data.head(1)[0]:\n",
    "    print(item)"
   ]
  },
  {
   "cell_type": "code",
   "execution_count": 9,
   "id": "f32128a3",
   "metadata": {},
   "outputs": [],
   "source": [
    "from pyspark.ml.linalg import Vectors\n",
    "from pyspark.ml.feature import VectorAssembler"
   ]
  },
  {
   "cell_type": "code",
   "execution_count": 10,
   "id": "d4bd29d2",
   "metadata": {},
   "outputs": [
    {
     "data": {
      "text/plain": [
       "['0', '1', '2', '3', '4', '5', '6', '7', '8', '9', 'target']"
      ]
     },
     "execution_count": 10,
     "metadata": {},
     "output_type": "execute_result"
    }
   ],
   "source": [
    "data.columns"
   ]
  },
  {
   "cell_type": "code",
   "execution_count": 11,
   "id": "5d13a5fb",
   "metadata": {},
   "outputs": [],
   "source": [
    "assembler = VectorAssembler(inputCols = ['0', '1', '2', '3', '4', '5',\n",
    "                                           '6', '7', '8', '9'],\n",
    "                           outputCol = 'features')"
   ]
  },
  {
   "cell_type": "code",
   "execution_count": 12,
   "id": "6efd90ed",
   "metadata": {},
   "outputs": [],
   "source": [
    "output = assembler.transform(data)"
   ]
  },
  {
   "cell_type": "code",
   "execution_count": 13,
   "id": "4dcc7a05",
   "metadata": {},
   "outputs": [
    {
     "data": {
      "text/plain": [
       "Row(0=0.038075906433423026, 1=0.05068011873981862, 2=0.061696206518683294, 3=0.0218723855140367, 4=-0.04422349842444599, 5=-0.03482076283769895, 6=-0.04340084565202491, 7=-0.002592261998183278, 8=0.019907486170462722, 9=-0.01764612515980379, target=151.0, features=DenseVector([0.0381, 0.0507, 0.0617, 0.0219, -0.0442, -0.0348, -0.0434, -0.0026, 0.0199, -0.0176]))"
      ]
     },
     "execution_count": 13,
     "metadata": {},
     "output_type": "execute_result"
    }
   ],
   "source": [
    "output.head()"
   ]
  },
  {
   "cell_type": "code",
   "execution_count": 14,
   "id": "ffe01c04",
   "metadata": {},
   "outputs": [],
   "source": [
    "final_data = output.select('features', 'target')"
   ]
  },
  {
   "cell_type": "code",
   "execution_count": 15,
   "id": "d92e190b",
   "metadata": {},
   "outputs": [
    {
     "name": "stdout",
     "output_type": "stream",
     "text": [
      "+--------------------+------+\n",
      "|            features|target|\n",
      "+--------------------+------+\n",
      "|[0.03807590643342...| 151.0|\n",
      "|[-0.0018820165277...|  75.0|\n",
      "|[0.08529890629667...| 141.0|\n",
      "|[-0.0890629393522...| 206.0|\n",
      "|[0.00538306037424...| 135.0|\n",
      "|[-0.0926954778032...|  97.0|\n",
      "|[-0.0454724779400...| 138.0|\n",
      "|[0.06350367559055...|  63.0|\n",
      "|[0.04170844488444...| 110.0|\n",
      "|[-0.0709002470971...| 310.0|\n",
      "|[-0.0963280162542...| 101.0|\n",
      "|[0.02717829108036...|  69.0|\n",
      "|[0.01628067572730...| 179.0|\n",
      "|[0.00538306037424...| 185.0|\n",
      "|[0.04534098333546...| 118.0|\n",
      "|[-0.0527375548420...| 171.0|\n",
      "|[-0.0055145549788...| 166.0|\n",
      "|[0.07076875249259...| 144.0|\n",
      "|[-0.0382074010379...|  97.0|\n",
      "|[-0.0273097856849...| 168.0|\n",
      "+--------------------+------+\n",
      "only showing top 20 rows\n",
      "\n"
     ]
    }
   ],
   "source": [
    "final_data.show()"
   ]
  },
  {
   "cell_type": "code",
   "execution_count": 16,
   "id": "74243521",
   "metadata": {},
   "outputs": [],
   "source": [
    "train_data, test_data = final_data.randomSplit([0.7, 0.3])"
   ]
  },
  {
   "cell_type": "code",
   "execution_count": 17,
   "id": "44b55856",
   "metadata": {
    "scrolled": true
   },
   "outputs": [
    {
     "name": "stdout",
     "output_type": "stream",
     "text": [
      "+-------+------------------+\n",
      "|summary|            target|\n",
      "+-------+------------------+\n",
      "|  count|               303|\n",
      "|   mean|153.34653465346534|\n",
      "| stddev| 76.70098935315586|\n",
      "|    min|              25.0|\n",
      "|    max|             332.0|\n",
      "+-------+------------------+\n",
      "\n"
     ]
    }
   ],
   "source": [
    "train_data.describe().show()"
   ]
  },
  {
   "cell_type": "code",
   "execution_count": 18,
   "id": "92e1169a",
   "metadata": {},
   "outputs": [
    {
     "name": "stdout",
     "output_type": "stream",
     "text": [
      "+-------+-----------------+\n",
      "|summary|           target|\n",
      "+-------+-----------------+\n",
      "|  count|              139|\n",
      "|   mean|149.4892086330935|\n",
      "| stddev|78.15409962695261|\n",
      "|    min|             39.0|\n",
      "|    max|            346.0|\n",
      "+-------+-----------------+\n",
      "\n"
     ]
    }
   ],
   "source": [
    "test_data.describe().show()"
   ]
  },
  {
   "cell_type": "markdown",
   "id": "7ac9738c",
   "metadata": {},
   "source": [
    "## Model Development"
   ]
  },
  {
   "cell_type": "code",
   "execution_count": 19,
   "id": "4169f950",
   "metadata": {},
   "outputs": [],
   "source": [
    "lr = LinearRegression(labelCol = 'target')"
   ]
  },
  {
   "cell_type": "code",
   "execution_count": 20,
   "id": "69561295",
   "metadata": {},
   "outputs": [
    {
     "name": "stdout",
     "output_type": "stream",
     "text": [
      "22/07/20 12:02:39 WARN Instrumentation: [0dbe3d7e] regParam is zero, which might cause numerical instability and overfitting.\n",
      "22/07/20 12:02:39 WARN InstanceBuilder$NativeBLAS: Failed to load implementation from:dev.ludovic.netlib.blas.JNIBLAS\n",
      "22/07/20 12:02:39 WARN InstanceBuilder$NativeBLAS: Failed to load implementation from:dev.ludovic.netlib.blas.ForeignLinkerBLAS\n",
      "22/07/20 12:02:39 WARN InstanceBuilder$NativeLAPACK: Failed to load implementation from:dev.ludovic.netlib.lapack.JNILAPACK\n"
     ]
    }
   ],
   "source": [
    "lr_model = lr.fit(train_data)"
   ]
  },
  {
   "cell_type": "code",
   "execution_count": 21,
   "id": "c9b0c218",
   "metadata": {},
   "outputs": [
    {
     "name": "stdout",
     "output_type": "stream",
     "text": [
      "+-------------------+\n",
      "|          residuals|\n",
      "+-------------------+\n",
      "|  6.077991406765818|\n",
      "|-12.057857287358203|\n",
      "|  7.878753437343036|\n",
      "|  58.42505976720159|\n",
      "| 25.687452080731916|\n",
      "|-12.670299409171832|\n",
      "|-15.172670149890635|\n",
      "| 30.187824890399526|\n",
      "| 24.778835349218696|\n",
      "|-33.257202698089685|\n",
      "|  70.89622094772128|\n",
      "| -88.96219412537084|\n",
      "|-131.26688188382184|\n",
      "| -52.99157936810451|\n",
      "|  91.45154842271742|\n",
      "| 24.220940970961493|\n",
      "| 24.445749450805536|\n",
      "| 19.364291662551352|\n",
      "| -6.106761249435323|\n",
      "|-22.150789775871786|\n",
      "+-------------------+\n",
      "only showing top 20 rows\n",
      "\n"
     ]
    }
   ],
   "source": [
    "test_results = lr_model.evaluate(test_data)\n",
    "test_results.residuals.show()"
   ]
  },
  {
   "cell_type": "code",
   "execution_count": 22,
   "id": "aef76dd9",
   "metadata": {},
   "outputs": [
    {
     "data": {
      "text/plain": [
       "52.32771395317113"
      ]
     },
     "execution_count": 22,
     "metadata": {},
     "output_type": "execute_result"
    }
   ],
   "source": [
    "test_results.rootMeanSquaredError"
   ]
  },
  {
   "cell_type": "code",
   "execution_count": 23,
   "id": "43228113",
   "metadata": {},
   "outputs": [
    {
     "data": {
      "text/plain": [
       "0.5484605395746912"
      ]
     },
     "execution_count": 23,
     "metadata": {},
     "output_type": "execute_result"
    }
   ],
   "source": [
    "test_results.r2"
   ]
  },
  {
   "cell_type": "code",
   "execution_count": 24,
   "id": "c62da994",
   "metadata": {},
   "outputs": [
    {
     "name": "stdout",
     "output_type": "stream",
     "text": [
      "+-------+-----------------+\n",
      "|summary|           target|\n",
      "+-------+-----------------+\n",
      "|  count|              139|\n",
      "|   mean|149.4892086330935|\n",
      "| stddev|78.15409962695261|\n",
      "|    min|             39.0|\n",
      "|    max|            346.0|\n",
      "+-------+-----------------+\n",
      "\n"
     ]
    }
   ],
   "source": [
    " test_data.describe().show()"
   ]
  },
  {
   "cell_type": "code",
   "execution_count": 25,
   "id": "ad218855",
   "metadata": {},
   "outputs": [
    {
     "name": "stdout",
     "output_type": "stream",
     "text": [
      "+--------------------+------------------+\n",
      "|            features|        prediction|\n",
      "+--------------------+------------------+\n",
      "|[-0.1072256316073...|133.92200859323418|\n",
      "|[-0.1035930931563...|  83.0578572873582|\n",
      "|[-0.0963280162542...| 93.12124656265696|\n",
      "|[-0.0963280162542...| 75.57494023279841|\n",
      "|[-0.0926954778032...|59.312547919268084|\n",
      "|[-0.0926954778032...|109.67029940917183|\n",
      "|[-0.0854304009012...|58.172670149890635|\n",
      "|[-0.0781653239991...|111.81217510960047|\n",
      "|[-0.0781653239991...| 208.2211646507813|\n",
      "|[-0.0745327855481...|102.25720269808969|\n",
      "|[-0.0745327855481...|45.103779052278725|\n",
      "|[-0.0745327855481...|189.96219412537084|\n",
      "|[-0.0745327855481...|199.26688188382184|\n",
      "|[-0.0709002470971...|113.99157936810451|\n",
      "|[-0.0709002470971...|218.54845157728258|\n",
      "|[-0.0709002470971...| 175.7790590290385|\n",
      "|[-0.0709002470971...| 79.55425054919446|\n",
      "|[-0.0636351701951...|164.63570833744865|\n",
      "|[-0.0600026317441...| 78.10676124943532|\n",
      "|[-0.0600026317441...|118.15078977587179|\n",
      "+--------------------+------------------+\n",
      "only showing top 20 rows\n",
      "\n"
     ]
    }
   ],
   "source": [
    "predictions = lr_model.transform(test_data.select('features'))\n",
    "predictions.show()"
   ]
  },
  {
   "cell_type": "markdown",
   "id": "baa821fe",
   "metadata": {},
   "source": [
    "## MLFlow Experiments"
   ]
  },
  {
   "cell_type": "code",
   "execution_count": 26,
   "id": "97156c23",
   "metadata": {
    "scrolled": true
   },
   "outputs": [],
   "source": [
    "from math import exp\n",
    "import xgboost as xgb\n",
    "from hyperopt import fmin, hp, tpe, SparkTrials, STATUS_OK\n",
    "from sklearn.model_selection import train_test_split\n",
    "import numpy as np\n",
    "from pyspark.ml.evaluation import RegressionEvaluator"
   ]
  },
  {
   "cell_type": "code",
   "execution_count": 27,
   "id": "d48933eb",
   "metadata": {},
   "outputs": [],
   "source": [
    "try:\n",
    "  import mlflow.pyspark.ml\n",
    "  mlflow.pyspark.ml.autolog()\n",
    "except:\n",
    "  print(f\"Your version of MLflow ({mlflow.__version__}) does not support pyspark.ml for autologging. To use autologging, upgrade your MLflow client version or use Databricks Runtime for ML 8.3 or above.\")"
   ]
  },
  {
   "cell_type": "code",
   "execution_count": 29,
   "id": "5cfac874",
   "metadata": {},
   "outputs": [],
   "source": [
    "def train_reg(maxDepth, numTrees):\n",
    "    # Use MLflow to track training.\n",
    "    with mlflow.start_run(nested=True):\n",
    "        rfr = RandomForestRegressor(featuresCol=\"features\",\n",
    "                                    labelCol=\"target\",\n",
    "                                    maxDepth=maxDepth,\n",
    "                                    numTrees=numTrees)\n",
    "        model = rfr.fit(train_data)\n",
    "    \n",
    "        pred = model.transform(test_data)\n",
    "        evaluator_rmse = RegressionEvaluator(\n",
    "            labelCol=\"target\", predictionCol=\"prediction\", metricName=\"rmse\")\n",
    "        val_rmse = evaluator_rmse.evaluate(pred)\n",
    "        evaluator_r2 = RegressionEvaluator(\n",
    "            labelCol=\"target\", predictionCol=\"prediction\", metricName=\"r2\")\n",
    "        val_r2 = evaluator_r2.evaluate(pred)\n",
    "        mlflow.log_metric(\"val_rmse\", val_rmse)\n",
    "        mlflow.log_metric(\"val_r2\", val_r2)\n",
    "    return model, val_rmse, val_r2"
   ]
  },
  {
   "cell_type": "code",
   "execution_count": 30,
   "id": "76ba78c2",
   "metadata": {},
   "outputs": [],
   "source": [
    "def train_with_hyperopt(params):\n",
    "    maxDepth = int(params['maxDepth'])\n",
    "    numTrees = int(params['numTrees'])\n",
    "    \n",
    "    model, val_rmse, val_r2 = train_reg(maxDepth, numTrees)\n",
    "    loss = -val_r2\n",
    "    return {'loss': loss, 'status': STATUS_OK}"
   ]
  },
  {
   "cell_type": "code",
   "execution_count": 31,
   "id": "e0e3f701",
   "metadata": {},
   "outputs": [],
   "source": [
    "space = {\n",
    "  'maxDepth': hp.uniform('max_depth', 2, 4),\n",
    "  'numTrees': hp.uniform('n_estimators', 10, 15),\n",
    "}"
   ]
  },
  {
   "cell_type": "code",
   "execution_count": 32,
   "id": "ab90a463",
   "metadata": {
    "scrolled": true
   },
   "outputs": [
    {
     "name": "stderr",
     "output_type": "stream",
     "text": [
      "2022/07/20 12:02:43 WARNING mlflow.utils.git_utils: Failed to import Git (the Git executable is probably not on your PATH), so Git SHA is not available. Error: Failed to initialize: Bad git executable.\n",
      "The git executable must be specified in one of the following ways:\n",
      "    - be included in your $PATH\n",
      "    - be set via $GIT_PYTHON_GIT_EXECUTABLE\n",
      "    - explicitly set via git.refresh()\n",
      "\n",
      "All git commands will error until this is rectified.\n",
      "\n",
      "This initial warning can be silenced or aggravated in the future by setting the\n",
      "$GIT_PYTHON_REFRESH environment variable. Use one of the following values:\n",
      "    - quiet|q|silence|s|none|n|0: for no warning or exception\n",
      "    - warn|w|warning|1: for a printed warning\n",
      "    - error|e|raise|r|2: for a raised exception\n",
      "\n",
      "Example:\n",
      "    export GIT_PYTHON_REFRESH=quiet\n",
      "\n"
     ]
    },
    {
     "name": "stdout",
     "output_type": "stream",
     "text": [
      "\r",
      "  0%|                                    | 0/8 [00:00<?, ?trial/s, best loss=?]"
     ]
    },
    {
     "name": "stderr",
     "output_type": "stream",
     "text": [
      "WARNING: An illegal reflective access operation has occurred                    \n",
      "WARNING: Illegal reflective access by org.apache.spark.util.SizeEstimator$ (file:/home/kris/spark-3.3.0-bin-hadoop3/jars/spark-core_2.12-3.3.0.jar) to field java.nio.charset.Charset.name\n",
      "WARNING: Please consider reporting this to the maintainers of org.apache.spark.util.SizeEstimator$\n",
      "WARNING: Use --illegal-access=warn to enable warnings of further illegal reflective access operations\n",
      "WARNING: All illegal access operations will be denied in a future release\n",
      "                                                                                \r"
     ]
    },
    {
     "name": "stdout",
     "output_type": "stream",
     "text": [
      " 62%|█████   | 5/8 [02:33<01:22, 27.56s/trial, best loss: -0.46052664915693164]"
     ]
    },
    {
     "name": "stderr",
     "output_type": "stream",
     "text": [
      "\r",
      "[Stage 145:>                                                        (0 + 1) / 1]\r",
      "\r",
      "                                                                                \r"
     ]
    },
    {
     "name": "stdout",
     "output_type": "stream",
     "text": [
      "100%|████████| 8/8 [04:09<00:00, 31.22s/trial, best loss: -0.47132825886509655]\n"
     ]
    }
   ],
   "source": [
    "algo=tpe.suggest\n",
    "with mlflow.start_run():\n",
    "    best_params = fmin(\n",
    "    fn=train_with_hyperopt,\n",
    "    space=space,\n",
    "    algo=algo,\n",
    "    max_evals=8)"
   ]
  },
  {
   "cell_type": "code",
   "execution_count": 37,
   "id": "8877148b",
   "metadata": {},
   "outputs": [
    {
     "name": "stdout",
     "output_type": "stream",
     "text": [
      "[2022-07-20 12:19:24 -0400] [9634] [INFO] Starting gunicorn 20.1.0\n",
      "[2022-07-20 12:19:24 -0400] [9634] [INFO] Listening at: http://127.0.0.1:5000 (9634)\n",
      "[2022-07-20 12:19:24 -0400] [9634] [INFO] Using worker: sync\n",
      "[2022-07-20 12:19:24 -0400] [9636] [INFO] Booting worker with pid: 9636\n",
      "^C\n",
      "[2022-07-20 12:20:00 -0400] [9634] [INFO] Handling signal: int\n",
      "[2022-07-20 12:20:00 -0400] [9636] [INFO] Worker exiting (pid: 9636)\n"
     ]
    }
   ],
   "source": [
    "!mlflow ui  # mlflow ui launch"
   ]
  },
  {
   "cell_type": "markdown",
   "id": "9f0e5a34",
   "metadata": {},
   "source": [
    "## Final Model"
   ]
  },
  {
   "cell_type": "code",
   "execution_count": 34,
   "id": "3f310fbf",
   "metadata": {},
   "outputs": [
    {
     "data": {
      "text/plain": [
       "{'max_depth': 3.1058622797243496, 'n_estimators': 12.118337684837792}"
      ]
     },
     "execution_count": 34,
     "metadata": {},
     "output_type": "execute_result"
    }
   ],
   "source": [
    "best_params"
   ]
  },
  {
   "cell_type": "code",
   "execution_count": 36,
   "id": "dfd03b5d",
   "metadata": {},
   "outputs": [
    {
     "name": "stderr",
     "output_type": "stream",
     "text": [
      "\r",
      "[Stage 240:>                                                        (0 + 3) / 3]\r",
      "\r",
      "                                                                                \r"
     ]
    },
    {
     "name": "stdout",
     "output_type": "stream",
     "text": [
      "Validation RMSE: 56.62092443189912\n",
      "Validation R2: 0.47132825886509655\n"
     ]
    }
   ],
   "source": [
    "maxDepth = int(best_params['max_depth'])\n",
    "numTrees = int(best_params['n_estimators'])\n",
    "model, val_rmse, val_r2 = train_reg(maxDepth, numTrees)  # We can train this on full dataset\n",
    "print('Validation RMSE:', val_rmse)\n",
    "print('Validation R2:', val_r2)"
   ]
  },
  {
   "cell_type": "code",
   "execution_count": null,
   "id": "2b39dcb9",
   "metadata": {},
   "outputs": [],
   "source": []
  }
 ],
 "metadata": {
  "kernelspec": {
   "display_name": "Python 3 (ipykernel)",
   "language": "python",
   "name": "python3"
  },
  "language_info": {
   "codemirror_mode": {
    "name": "ipython",
    "version": 3
   },
   "file_extension": ".py",
   "mimetype": "text/x-python",
   "name": "python",
   "nbconvert_exporter": "python",
   "pygments_lexer": "ipython3",
   "version": "3.9.7"
  }
 },
 "nbformat": 4,
 "nbformat_minor": 5
}
